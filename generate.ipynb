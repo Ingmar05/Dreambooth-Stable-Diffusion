{
 "cells": [
  {
   "attachments": {},
   "cell_type": "markdown",
   "id": "7d758034",
   "metadata": {},
   "source": [
    "# Ingmar05/Dreambooth-Stable-Diffusion\n",
    "https://github.com/Ingmar05/Dreambooth-Stable-Diffusion"
   ]
  },
  {
   "attachments": {},
   "cell_type": "markdown",
   "id": "db118dd8",
   "metadata": {},
   "source": [
    "## Settings"
   ]
  },
  {
   "cell_type": "code",
   "execution_count": null,
   "id": "c25a4d79",
   "metadata": {},
   "outputs": [],
   "source": [
    "model_file_name = \"model.ckpt\"\n",
    "prompts_file_name = \"prompts160.txt\"\n",
    "print(\"✅ Settings Applied\")"
   ]
  },
  {
   "attachments": {},
   "cell_type": "markdown",
   "id": "a3f7df05",
   "metadata": {},
   "source": [
    "## Generate"
   ]
  },
  {
   "cell_type": "code",
   "execution_count": null,
   "metadata": {
    "collapsed": true
   },
   "outputs": [],
   "source": [
    "# BUILD ENV\n",
    "!pip install numpy==1.23.1\n",
    "!pip install pytorch-lightning==1.7.6\n",
    "!pip install csv-logger\n",
    "!pip install torchmetrics==0.11.1\n",
    "!pip install torch-fidelity==0.3.0\n",
    "!pip install albumentations==1.1.0\n",
    "!pip install opencv-python==4.7.0.72\n",
    "!pip install pudb==2019.2\n",
    "!pip install omegaconf==2.1.1\n",
    "!pip install pillow==9.4.0\n",
    "!pip install einops==0.4.1\n",
    "!pip install transformers==4.25.1\n",
    "!pip install kornia==0.6.7\n",
    "!pip install diffusers[training]==0.3.0\n",
    "!pip install captionizer==1.0.1\n",
    "!pip install -e git+https://github.com/CompVis/taming-transformers.git@master#egg=taming-transformers\n",
    "!pip install -e git+https://github.com/openai/CLIP.git@main#egg=clip\n",
    "!pip install -e .\n",
    "!pip install huggingface_hub\n",
    "!pip install gitpython\n",
    "\n",
    "!python scripts/stable_txt2img.py \\\n",
    " --n_samples 1 \\\n",
    " --n_iter 1 \\\n",
    " --ddim_steps 20 \\\n",
    " --ckpt \"/workspace/Dreambooth-Stable-Diffusion/trained_models/{model_file_name}\" \\\n",
    " --from-file \"prompts.txt\"\n",
    "\n",
    "print(\"✅ Finished Generating\")\n",
    "\n",
    "!apt update\n",
    "!apt install zip -y\n",
    "!zip -r generated_images.zip outputs/txt2img-samples/samples\n",
    "print(\"✅ Download Images from generated_images.zip\")"
   ]
  }
 ],
 "metadata": {
  "colab": {
   "collapsed_sections": [],
   "provenance": []
  },
  "kernelspec": {
   "display_name": "Python 3 (ipykernel)",
   "language": "python",
   "name": "python3"
  },
  "language_info": {
   "codemirror_mode": {
    "name": "ipython",
    "version": 3
   },
   "file_extension": ".py",
   "mimetype": "text/x-python",
   "name": "python",
   "nbconvert_exporter": "python",
   "pygments_lexer": "ipython3",
   "version": "3.10.6"
  },
  "vscode": {
   "interpreter": {
    "hash": "b0fa6594d8f4cbf19f97940f81e996739fb7646882a419484c72d19e05852a7e"
   }
  }
 },
 "nbformat": 4,
 "nbformat_minor": 5
}
